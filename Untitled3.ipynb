{
  "nbformat": 4,
  "nbformat_minor": 0,
  "metadata": {
    "colab": {
      "provenance": [],
      "authorship_tag": "ABX9TyOm5MAYH0dX2Cz2tS484oi6",
      "include_colab_link": true
    },
    "kernelspec": {
      "name": "python3",
      "display_name": "Python 3"
    },
    "language_info": {
      "name": "python"
    }
  },
  "cells": [
    {
      "cell_type": "markdown",
      "metadata": {
        "id": "view-in-github",
        "colab_type": "text"
      },
      "source": [
        "<a href=\"https://colab.research.google.com/github/ManasiA/codsoft/blob/main/Untitled3.ipynb\" target=\"_parent\"><img src=\"https://colab.research.google.com/assets/colab-badge.svg\" alt=\"Open In Colab\"/></a>"
      ]
    },
    {
      "cell_type": "code",
      "execution_count": 1,
      "metadata": {
        "colab": {
          "base_uri": "https://localhost:8080/"
        },
        "id": "TR3fqS667I73",
        "outputId": "cad74381-9cf2-4180-91a1-79832ee9a80c"
      },
      "outputs": [
        {
          "output_type": "stream",
          "name": "stdout",
          "text": [
            "Requirement already satisfied: pandas in /usr/local/lib/python3.11/dist-packages (2.2.2)\n",
            "Requirement already satisfied: scikit-learn in /usr/local/lib/python3.11/dist-packages (1.6.1)\n",
            "Requirement already satisfied: numpy>=1.23.2 in /usr/local/lib/python3.11/dist-packages (from pandas) (2.0.2)\n",
            "Requirement already satisfied: python-dateutil>=2.8.2 in /usr/local/lib/python3.11/dist-packages (from pandas) (2.9.0.post0)\n",
            "Requirement already satisfied: pytz>=2020.1 in /usr/local/lib/python3.11/dist-packages (from pandas) (2025.2)\n",
            "Requirement already satisfied: tzdata>=2022.7 in /usr/local/lib/python3.11/dist-packages (from pandas) (2025.2)\n",
            "Requirement already satisfied: scipy>=1.6.0 in /usr/local/lib/python3.11/dist-packages (from scikit-learn) (1.15.3)\n",
            "Requirement already satisfied: joblib>=1.2.0 in /usr/local/lib/python3.11/dist-packages (from scikit-learn) (1.5.1)\n",
            "Requirement already satisfied: threadpoolctl>=3.1.0 in /usr/local/lib/python3.11/dist-packages (from scikit-learn) (3.6.0)\n",
            "Requirement already satisfied: six>=1.5 in /usr/local/lib/python3.11/dist-packages (from python-dateutil>=2.8.2->pandas) (1.17.0)\n"
          ]
        }
      ],
      "source": [
        "pip install pandas scikit-learn\n"
      ]
    },
    {
      "cell_type": "markdown",
      "source": [
        "import pandas as pd\n",
        "from sklearn.feature_extraction.text import TfidfVectorizer\n",
        "from sklearn.metrics.pairwise import cosine_similarity\n",
        "\n",
        "# Sample dataset of books and their descriptions\n",
        "data = {\n",
        "    'Title': [\n",
        "        'The Python Handbook',\n",
        "        'Data Science from Scratch',\n",
        "        'Deep Learning with Python',\n",
        "        'Machine Learning Basics',\n",
        "        'AI for Beginners'\n",
        "    ],\n",
        "    'Description': [\n",
        "        'A comprehensive guide to Python programming for developers.',\n",
        "        'An introduction to data science concepts, tools, and techniques.',\n",
        "        'A hands-on guide to deep learning using Python libraries.',\n",
        "        'Learn machine learning fundamentals with practical examples.',\n",
        "        'An easy-to-follow guide for beginners interested in artificial intelligence.'\n",
        "    ]\n",
        "}\n",
        "\n",
        "# Convert data into a pandas DataFrame\n",
        "df = pd.DataFrame(data)\n",
        "\n",
        "# Initialize the TF-IDF Vectorizer\n",
        "vectorizer = TfidfVectorizer()\n",
        "\n",
        "# Convert the descriptions into TF-IDF feature vectors\n",
        "tfidf_matrix = vectorizer.fit_transform(df['Description'])\n",
        "\n",
        "# Compute cosine similarity between all books\n",
        "cosine_sim = cosine_similarity(tfidf_matrix, tfidf_matrix)\n",
        "\n",
        "# Function to recommend books based on similarity\n",
        "def recommend_books(book_title):\n",
        "    # Check if the book exists in the dataset\n",
        "    if book_title not in df['Title'].values:\n",
        "        print(\"Book not found in the dataset.\")\n",
        "        return\n",
        "    \n",
        "    # Get index of the given book\n",
        "    idx = df.index[df['Title'] == book_title][0]\n",
        "\n",
        "    # Get similarity scores for this book\n",
        "    sim_scores = list(enumerate(cosine_sim[idx]))\n",
        "\n",
        "    # Sort books based on similarity score (excluding the book itself)\n",
        "    sim_scores = sorted(sim_scores, key=lambda x: x[1], reverse=True)\n",
        "    sim_scores = sim_scores[1:4]  # Top 3 recommendations\n",
        "\n",
        "    print(f\"\\nBooks similar to '{book_title}':\\n\")\n",
        "    for i, score in sim_scores:\n",
        "        print(f\"- {df['Title'][i]}\")\n",
        "\n",
        "# Example: Recommend books related to 'Machine Learning Basics'\n",
        "recommend_books('Machine Learning Basics')\n"
      ],
      "metadata": {
        "id": "B_BR_ZIo7RXv"
      }
    },
    {
      "cell_type": "code",
      "source": [
        "import pandas as pd\n",
        "from sklearn.feature_extraction.text import TfidfVectorizer\n",
        "from sklearn.metrics.pairwise import cosine_similarity\n",
        "\n",
        "data = {\n",
        "    'Title': [\n",
        "        'The Python Handbook',\n",
        "        'Data Science from Scratch',\n",
        "        'Deep Learning with Python',\n",
        "        'Machine Learning Basics',\n",
        "        'AI for Beginners'\n",
        "    ],\n",
        "    'Description': [\n",
        "        'A comprehensive guide to Python programming for developers.',\n",
        "        'An introduction to data science concepts, tools, and techniques.',\n",
        "        'A hands-on guide to deep learning using Python libraries.',\n",
        "        'Learn machine learning fundamentals with practical examples.',\n",
        "        'An easy-to-follow guide for beginners interested in artificial intelligence.'\n",
        "    ]\n",
        "}\n",
        "\n",
        "df = pd.DataFrame(data)\n",
        "\n",
        "vectorizer = TfidfVectorizer()\n",
        "\n",
        "tfidf_matrix = vectorizer.fit_transform(df['Description'])\n",
        "\n",
        "cosine_sim = cosine_similarity(tfidf_matrix, tfidf_matrix)\n",
        "\n",
        "def recommend_books(book_title):\n",
        "\n",
        "    if book_title not in df['Title'].values:\n",
        "        print(\"Book not found in the dataset.\")\n",
        "        return\n",
        "\n",
        "    idx = df.index[df['Title'] == book_title][0]\n",
        "\n",
        "    sim_scores = list(enumerate(cosine_sim[idx]))\n",
        "\n",
        "    sim_scores = sorted(sim_scores, key=lambda x: x[1], reverse=True)\n",
        "    sim_scores = sim_scores[1:4]\n",
        "\n",
        "    print(f\"\\nBooks similar to '{book_title}':\\n\")\n",
        "    for i, score in sim_scores:\n",
        "        print(f\"- {df['Title'][i]}\")\n",
        "\n",
        "recommend_books('Machine Learning Basics')\n"
      ],
      "metadata": {
        "colab": {
          "base_uri": "https://localhost:8080/"
        },
        "id": "ifsFFH0h7XrA",
        "outputId": "b1071646-71ca-4d1f-c564-053232ed953d"
      },
      "execution_count": 2,
      "outputs": [
        {
          "output_type": "stream",
          "name": "stdout",
          "text": [
            "\n",
            "Books similar to 'Machine Learning Basics':\n",
            "\n",
            "- Deep Learning with Python\n",
            "- The Python Handbook\n",
            "- Data Science from Scratch\n"
          ]
        }
      ]
    }
  ]
}